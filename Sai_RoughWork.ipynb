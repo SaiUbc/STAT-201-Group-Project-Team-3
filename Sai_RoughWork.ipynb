{
 "cells": [
  {
   "cell_type": "markdown",
   "id": "c51b4299-1791-4a2d-8990-2c6a9e3269e5",
   "metadata": {},
   "source": [
    "# Packages"
   ]
  },
  {
   "cell_type": "code",
   "execution_count": 9,
   "id": "0163f826-a5dc-4761-8af7-aa8d853ef117",
   "metadata": {},
   "outputs": [],
   "source": [
    "# Run this cell before continuing.\n",
    "library(cowplot)\n",
    "library(datateachr)\n",
    "library(digest)\n",
    "library(infer)\n",
    "library(repr)\n",
    "library(taxyvr)\n",
    "library(tidyverse)\n",
    "library(broom)\n",
    "library(digest)\n",
    "library(testthat)\n",
    "library(dplyr)\n"
   ]
  },
  {
   "cell_type": "markdown",
   "id": "e7705bc1-3cf9-4b04-a827-c04928f20ffa",
   "metadata": {},
   "source": [
    "# Loading Dataset"
   ]
  },
  {
   "cell_type": "code",
   "execution_count": 11,
   "id": "2fc2f134-4a43-42cd-9eeb-7cc886702240",
   "metadata": {},
   "outputs": [
    {
     "name": "stderr",
     "output_type": "stream",
     "text": [
      "\u001b[1mRows: \u001b[22m\u001b[34m736\u001b[39m \u001b[1mColumns: \u001b[22m\u001b[34m33\u001b[39m\n",
      "\u001b[36m──\u001b[39m \u001b[1mColumn specification\u001b[22m \u001b[36m────────────────────────────────────────────────────────\u001b[39m\n",
      "\u001b[1mDelimiter:\u001b[22m \",\"\n",
      "\u001b[31mchr\u001b[39m (26): Timestamp, Primary streaming service, While working, Instrumentali...\n",
      "\u001b[32mdbl\u001b[39m  (7): Age, Hours per day, BPM, Anxiety, Depression, Insomnia, OCD\n",
      "\n",
      "\u001b[36mℹ\u001b[39m Use `spec()` to retrieve the full column specification for this data.\n",
      "\u001b[36mℹ\u001b[39m Specify the column types or set `show_col_types = FALSE` to quiet this message.\n"
     ]
    },
    {
     "data": {
      "text/html": [
       "<table class=\"dataframe\">\n",
       "<caption>A tibble: 6 × 33</caption>\n",
       "<thead>\n",
       "\t<tr><th scope=col>Timestamp</th><th scope=col>Age</th><th scope=col>Primary streaming service</th><th scope=col>Hours per day</th><th scope=col>While working</th><th scope=col>Instrumentalist</th><th scope=col>Composer</th><th scope=col>Fav genre</th><th scope=col>Exploratory</th><th scope=col>Foreign languages</th><th scope=col>⋯</th><th scope=col>Frequency [R&amp;B]</th><th scope=col>Frequency [Rap]</th><th scope=col>Frequency [Rock]</th><th scope=col>Frequency [Video game music]</th><th scope=col>Anxiety</th><th scope=col>Depression</th><th scope=col>Insomnia</th><th scope=col>OCD</th><th scope=col>Music effects</th><th scope=col>Permissions</th></tr>\n",
       "\t<tr><th scope=col>&lt;chr&gt;</th><th scope=col>&lt;dbl&gt;</th><th scope=col>&lt;chr&gt;</th><th scope=col>&lt;dbl&gt;</th><th scope=col>&lt;chr&gt;</th><th scope=col>&lt;chr&gt;</th><th scope=col>&lt;chr&gt;</th><th scope=col>&lt;chr&gt;</th><th scope=col>&lt;chr&gt;</th><th scope=col>&lt;chr&gt;</th><th scope=col>⋯</th><th scope=col>&lt;chr&gt;</th><th scope=col>&lt;chr&gt;</th><th scope=col>&lt;chr&gt;</th><th scope=col>&lt;chr&gt;</th><th scope=col>&lt;dbl&gt;</th><th scope=col>&lt;dbl&gt;</th><th scope=col>&lt;dbl&gt;</th><th scope=col>&lt;dbl&gt;</th><th scope=col>&lt;chr&gt;</th><th scope=col>&lt;chr&gt;</th></tr>\n",
       "</thead>\n",
       "<tbody>\n",
       "\t<tr><td>8/27/2022 19:29:02</td><td>18</td><td>Spotify      </td><td>3.0</td><td>Yes</td><td>Yes</td><td>Yes</td><td>Latin           </td><td>Yes</td><td>Yes</td><td>⋯</td><td>Sometimes      </td><td>Very frequently</td><td>Never          </td><td>Sometimes      </td><td>3</td><td>0</td><td> 1</td><td>0</td><td>NA       </td><td>I understand.</td></tr>\n",
       "\t<tr><td>8/27/2022 19:57:31</td><td>63</td><td>Pandora      </td><td>1.5</td><td>Yes</td><td>No </td><td>No </td><td>Rock            </td><td>Yes</td><td>No </td><td>⋯</td><td>Sometimes      </td><td>Rarely         </td><td>Very frequently</td><td>Rarely         </td><td>7</td><td>2</td><td> 2</td><td>1</td><td>NA       </td><td>I understand.</td></tr>\n",
       "\t<tr><td>8/27/2022 21:28:18</td><td>18</td><td>Spotify      </td><td>4.0</td><td>No </td><td>No </td><td>No </td><td>Video game music</td><td>No </td><td>Yes</td><td>⋯</td><td>Never          </td><td>Rarely         </td><td>Rarely         </td><td>Very frequently</td><td>7</td><td>7</td><td>10</td><td>2</td><td>No effect</td><td>I understand.</td></tr>\n",
       "\t<tr><td>8/27/2022 21:40:40</td><td>61</td><td>YouTube Music</td><td>2.5</td><td>Yes</td><td>No </td><td>Yes</td><td>Jazz            </td><td>Yes</td><td>Yes</td><td>⋯</td><td>Sometimes      </td><td>Never          </td><td>Never          </td><td>Never          </td><td>9</td><td>7</td><td> 3</td><td>3</td><td>Improve  </td><td>I understand.</td></tr>\n",
       "\t<tr><td>8/27/2022 21:54:47</td><td>18</td><td><span style=white-space:pre-wrap>Spotify      </span></td><td>4.0</td><td>Yes</td><td>No </td><td>No </td><td><span style=white-space:pre-wrap>R&amp;B             </span></td><td>Yes</td><td>No </td><td>⋯</td><td>Very frequently</td><td>Very frequently</td><td><span style=white-space:pre-wrap>Never          </span></td><td><span style=white-space:pre-wrap>Rarely         </span></td><td>7</td><td>2</td><td> 5</td><td>9</td><td><span style=white-space:pre-wrap>Improve  </span></td><td>I understand.</td></tr>\n",
       "\t<tr><td>8/27/2022 21:56:50</td><td>18</td><td>Spotify      </td><td>5.0</td><td>Yes</td><td>Yes</td><td>Yes</td><td>Jazz            </td><td>Yes</td><td>Yes</td><td>⋯</td><td>Very frequently</td><td>Very frequently</td><td>Very frequently</td><td>Never          </td><td>8</td><td>8</td><td> 7</td><td>7</td><td>Improve  </td><td>I understand.</td></tr>\n",
       "</tbody>\n",
       "</table>\n"
      ],
      "text/latex": [
       "A tibble: 6 × 33\n",
       "\\begin{tabular}{lllllllllllllllllllll}\n",
       " Timestamp & Age & Primary streaming service & Hours per day & While working & Instrumentalist & Composer & Fav genre & Exploratory & Foreign languages & ⋯ & Frequency {[}R\\&B{]} & Frequency {[}Rap{]} & Frequency {[}Rock{]} & Frequency {[}Video game music{]} & Anxiety & Depression & Insomnia & OCD & Music effects & Permissions\\\\\n",
       " <chr> & <dbl> & <chr> & <dbl> & <chr> & <chr> & <chr> & <chr> & <chr> & <chr> & ⋯ & <chr> & <chr> & <chr> & <chr> & <dbl> & <dbl> & <dbl> & <dbl> & <chr> & <chr>\\\\\n",
       "\\hline\n",
       "\t 8/27/2022 19:29:02 & 18 & Spotify       & 3.0 & Yes & Yes & Yes & Latin            & Yes & Yes & ⋯ & Sometimes       & Very frequently & Never           & Sometimes       & 3 & 0 &  1 & 0 & NA        & I understand.\\\\\n",
       "\t 8/27/2022 19:57:31 & 63 & Pandora       & 1.5 & Yes & No  & No  & Rock             & Yes & No  & ⋯ & Sometimes       & Rarely          & Very frequently & Rarely          & 7 & 2 &  2 & 1 & NA        & I understand.\\\\\n",
       "\t 8/27/2022 21:28:18 & 18 & Spotify       & 4.0 & No  & No  & No  & Video game music & No  & Yes & ⋯ & Never           & Rarely          & Rarely          & Very frequently & 7 & 7 & 10 & 2 & No effect & I understand.\\\\\n",
       "\t 8/27/2022 21:40:40 & 61 & YouTube Music & 2.5 & Yes & No  & Yes & Jazz             & Yes & Yes & ⋯ & Sometimes       & Never           & Never           & Never           & 9 & 7 &  3 & 3 & Improve   & I understand.\\\\\n",
       "\t 8/27/2022 21:54:47 & 18 & Spotify       & 4.0 & Yes & No  & No  & R\\&B              & Yes & No  & ⋯ & Very frequently & Very frequently & Never           & Rarely          & 7 & 2 &  5 & 9 & Improve   & I understand.\\\\\n",
       "\t 8/27/2022 21:56:50 & 18 & Spotify       & 5.0 & Yes & Yes & Yes & Jazz             & Yes & Yes & ⋯ & Very frequently & Very frequently & Very frequently & Never           & 8 & 8 &  7 & 7 & Improve   & I understand.\\\\\n",
       "\\end{tabular}\n"
      ],
      "text/markdown": [
       "\n",
       "A tibble: 6 × 33\n",
       "\n",
       "| Timestamp &lt;chr&gt; | Age &lt;dbl&gt; | Primary streaming service &lt;chr&gt; | Hours per day &lt;dbl&gt; | While working &lt;chr&gt; | Instrumentalist &lt;chr&gt; | Composer &lt;chr&gt; | Fav genre &lt;chr&gt; | Exploratory &lt;chr&gt; | Foreign languages &lt;chr&gt; | ⋯ ⋯ | Frequency [R&amp;B] &lt;chr&gt; | Frequency [Rap] &lt;chr&gt; | Frequency [Rock] &lt;chr&gt; | Frequency [Video game music] &lt;chr&gt; | Anxiety &lt;dbl&gt; | Depression &lt;dbl&gt; | Insomnia &lt;dbl&gt; | OCD &lt;dbl&gt; | Music effects &lt;chr&gt; | Permissions &lt;chr&gt; |\n",
       "|---|---|---|---|---|---|---|---|---|---|---|---|---|---|---|---|---|---|---|---|---|\n",
       "| 8/27/2022 19:29:02 | 18 | Spotify       | 3.0 | Yes | Yes | Yes | Latin            | Yes | Yes | ⋯ | Sometimes       | Very frequently | Never           | Sometimes       | 3 | 0 |  1 | 0 | NA        | I understand. |\n",
       "| 8/27/2022 19:57:31 | 63 | Pandora       | 1.5 | Yes | No  | No  | Rock             | Yes | No  | ⋯ | Sometimes       | Rarely          | Very frequently | Rarely          | 7 | 2 |  2 | 1 | NA        | I understand. |\n",
       "| 8/27/2022 21:28:18 | 18 | Spotify       | 4.0 | No  | No  | No  | Video game music | No  | Yes | ⋯ | Never           | Rarely          | Rarely          | Very frequently | 7 | 7 | 10 | 2 | No effect | I understand. |\n",
       "| 8/27/2022 21:40:40 | 61 | YouTube Music | 2.5 | Yes | No  | Yes | Jazz             | Yes | Yes | ⋯ | Sometimes       | Never           | Never           | Never           | 9 | 7 |  3 | 3 | Improve   | I understand. |\n",
       "| 8/27/2022 21:54:47 | 18 | Spotify       | 4.0 | Yes | No  | No  | R&amp;B              | Yes | No  | ⋯ | Very frequently | Very frequently | Never           | Rarely          | 7 | 2 |  5 | 9 | Improve   | I understand. |\n",
       "| 8/27/2022 21:56:50 | 18 | Spotify       | 5.0 | Yes | Yes | Yes | Jazz             | Yes | Yes | ⋯ | Very frequently | Very frequently | Very frequently | Never           | 8 | 8 |  7 | 7 | Improve   | I understand. |\n",
       "\n"
      ],
      "text/plain": [
       "  Timestamp          Age Primary streaming service Hours per day While working\n",
       "1 8/27/2022 19:29:02 18  Spotify                   3.0           Yes          \n",
       "2 8/27/2022 19:57:31 63  Pandora                   1.5           Yes          \n",
       "3 8/27/2022 21:28:18 18  Spotify                   4.0           No           \n",
       "4 8/27/2022 21:40:40 61  YouTube Music             2.5           Yes          \n",
       "5 8/27/2022 21:54:47 18  Spotify                   4.0           Yes          \n",
       "6 8/27/2022 21:56:50 18  Spotify                   5.0           Yes          \n",
       "  Instrumentalist Composer Fav genre        Exploratory Foreign languages ⋯\n",
       "1 Yes             Yes      Latin            Yes         Yes               ⋯\n",
       "2 No              No       Rock             Yes         No                ⋯\n",
       "3 No              No       Video game music No          Yes               ⋯\n",
       "4 No              Yes      Jazz             Yes         Yes               ⋯\n",
       "5 No              No       R&B              Yes         No                ⋯\n",
       "6 Yes             Yes      Jazz             Yes         Yes               ⋯\n",
       "  Frequency [R&B] Frequency [Rap] Frequency [Rock] Frequency [Video game music]\n",
       "1 Sometimes       Very frequently Never            Sometimes                   \n",
       "2 Sometimes       Rarely          Very frequently  Rarely                      \n",
       "3 Never           Rarely          Rarely           Very frequently             \n",
       "4 Sometimes       Never           Never            Never                       \n",
       "5 Very frequently Very frequently Never            Rarely                      \n",
       "6 Very frequently Very frequently Very frequently  Never                       \n",
       "  Anxiety Depression Insomnia OCD Music effects Permissions  \n",
       "1 3       0           1       0   NA            I understand.\n",
       "2 7       2           2       1   NA            I understand.\n",
       "3 7       7          10       2   No effect     I understand.\n",
       "4 9       7           3       3   Improve       I understand.\n",
       "5 7       2           5       9   Improve       I understand.\n",
       "6 8       8           7       7   Improve       I understand."
      ]
     },
     "metadata": {},
     "output_type": "display_data"
    },
    {
     "data": {
      "text/html": [
       "<style>\n",
       ".list-inline {list-style: none; margin:0; padding: 0}\n",
       ".list-inline>li {display: inline-block}\n",
       ".list-inline>li:not(:last-child)::after {content: \"\\00b7\"; padding: 0 .5ex}\n",
       "</style>\n",
       "<ol class=list-inline><li>736</li><li>33</li></ol>\n"
      ],
      "text/latex": [
       "\\begin{enumerate*}\n",
       "\\item 736\n",
       "\\item 33\n",
       "\\end{enumerate*}\n"
      ],
      "text/markdown": [
       "1. 736\n",
       "2. 33\n",
       "\n",
       "\n"
      ],
      "text/plain": [
       "[1] 736  33"
      ]
     },
     "metadata": {},
     "output_type": "display_data"
    }
   ],
   "source": [
    "mxmh_survey_results <- read_csv(\"mxmh_survey_results.csv\")\n",
    "head(mxmh_survey_results)\n",
    "shape <- dim(mxmh_survey_results)\n",
    "shape"
   ]
  },
  {
   "cell_type": "markdown",
   "id": "c0367152-3591-4b6a-bc88-8359af19c7cd",
   "metadata": {},
   "source": [
    "# Renaming Colonums"
   ]
  },
  {
   "cell_type": "code",
   "execution_count": 23,
   "id": "a3e8e902-34b2-424c-8212-c93a685e045e",
   "metadata": {},
   "outputs": [
    {
     "data": {
      "text/html": [
       "<table class=\"dataframe\">\n",
       "<caption>A tibble: 16 × 2</caption>\n",
       "<thead>\n",
       "\t<tr><th scope=col>fav_genre</th><th scope=col>count</th></tr>\n",
       "\t<tr><th scope=col>&lt;chr&gt;</th><th scope=col>&lt;int&gt;</th></tr>\n",
       "</thead>\n",
       "<tbody>\n",
       "\t<tr><td>Classical       </td><td> 53</td></tr>\n",
       "\t<tr><td>Country         </td><td> 25</td></tr>\n",
       "\t<tr><td>EDM             </td><td> 37</td></tr>\n",
       "\t<tr><td>Folk            </td><td> 30</td></tr>\n",
       "\t<tr><td>Gospel          </td><td>  6</td></tr>\n",
       "\t<tr><td>Hip hop         </td><td> 35</td></tr>\n",
       "\t<tr><td>Jazz            </td><td> 20</td></tr>\n",
       "\t<tr><td>K pop           </td><td> 26</td></tr>\n",
       "\t<tr><td>Latin           </td><td>  3</td></tr>\n",
       "\t<tr><td>Lofi            </td><td> 10</td></tr>\n",
       "\t<tr><td>Metal           </td><td> 88</td></tr>\n",
       "\t<tr><td>Pop             </td><td>114</td></tr>\n",
       "\t<tr><td><span style=white-space:pre-wrap>R&amp;B             </span></td><td> 35</td></tr>\n",
       "\t<tr><td>Rap             </td><td> 22</td></tr>\n",
       "\t<tr><td>Rock            </td><td>188</td></tr>\n",
       "\t<tr><td>Video game music</td><td> 44</td></tr>\n",
       "</tbody>\n",
       "</table>\n"
      ],
      "text/latex": [
       "A tibble: 16 × 2\n",
       "\\begin{tabular}{ll}\n",
       " fav\\_genre & count\\\\\n",
       " <chr> & <int>\\\\\n",
       "\\hline\n",
       "\t Classical        &  53\\\\\n",
       "\t Country          &  25\\\\\n",
       "\t EDM              &  37\\\\\n",
       "\t Folk             &  30\\\\\n",
       "\t Gospel           &   6\\\\\n",
       "\t Hip hop          &  35\\\\\n",
       "\t Jazz             &  20\\\\\n",
       "\t K pop            &  26\\\\\n",
       "\t Latin            &   3\\\\\n",
       "\t Lofi             &  10\\\\\n",
       "\t Metal            &  88\\\\\n",
       "\t Pop              & 114\\\\\n",
       "\t R\\&B              &  35\\\\\n",
       "\t Rap              &  22\\\\\n",
       "\t Rock             & 188\\\\\n",
       "\t Video game music &  44\\\\\n",
       "\\end{tabular}\n"
      ],
      "text/markdown": [
       "\n",
       "A tibble: 16 × 2\n",
       "\n",
       "| fav_genre &lt;chr&gt; | count &lt;int&gt; |\n",
       "|---|---|\n",
       "| Classical        |  53 |\n",
       "| Country          |  25 |\n",
       "| EDM              |  37 |\n",
       "| Folk             |  30 |\n",
       "| Gospel           |   6 |\n",
       "| Hip hop          |  35 |\n",
       "| Jazz             |  20 |\n",
       "| K pop            |  26 |\n",
       "| Latin            |   3 |\n",
       "| Lofi             |  10 |\n",
       "| Metal            |  88 |\n",
       "| Pop              | 114 |\n",
       "| R&amp;B              |  35 |\n",
       "| Rap              |  22 |\n",
       "| Rock             | 188 |\n",
       "| Video game music |  44 |\n",
       "\n"
      ],
      "text/plain": [
       "   fav_genre        count\n",
       "1  Classical         53  \n",
       "2  Country           25  \n",
       "3  EDM               37  \n",
       "4  Folk              30  \n",
       "5  Gospel             6  \n",
       "6  Hip hop           35  \n",
       "7  Jazz              20  \n",
       "8  K pop             26  \n",
       "9  Latin              3  \n",
       "10 Lofi              10  \n",
       "11 Metal             88  \n",
       "12 Pop              114  \n",
       "13 R&B               35  \n",
       "14 Rap               22  \n",
       "15 Rock             188  \n",
       "16 Video game music  44  "
      ]
     },
     "metadata": {},
     "output_type": "display_data"
    },
    {
     "name": "stderr",
     "output_type": "stream",
     "text": [
      "Warning message:\n",
      "“Ignoring unknown parameters: bindwith”\n",
      "ERROR while rich displaying an object: \u001b[1m\u001b[33mError\u001b[39m in \u001b[1m\u001b[1m`f()`:\u001b[22m\n",
      "\u001b[33m!\u001b[39m StatBin requires a continuous x variable: the x variable is discrete.Perhaps you want stat=\"count\"?\n",
      "\n",
      "Traceback:\n",
      "1. tryCatch(withCallingHandlers({\n",
      " .     if (!mime %in% names(repr::mime2repr)) \n",
      " .         stop(\"No repr_* for mimetype \", mime, \" in repr::mime2repr\")\n",
      " .     rpr <- repr::mime2repr[[mime]](obj)\n",
      " .     if (is.null(rpr)) \n",
      " .         return(NULL)\n",
      " .     prepare_content(is.raw(rpr), rpr)\n",
      " . }, error = error_handler), error = outer_handler)\n",
      "2. tryCatchList(expr, classes, parentenv, handlers)\n",
      "3. tryCatchOne(expr, names, parentenv, handlers[[1L]])\n",
      "4. doTryCatch(return(expr), name, parentenv, handler)\n",
      "5. withCallingHandlers({\n",
      " .     if (!mime %in% names(repr::mime2repr)) \n",
      " .         stop(\"No repr_* for mimetype \", mime, \" in repr::mime2repr\")\n",
      " .     rpr <- repr::mime2repr[[mime]](obj)\n",
      " .     if (is.null(rpr)) \n",
      " .         return(NULL)\n",
      " .     prepare_content(is.raw(rpr), rpr)\n",
      " . }, error = error_handler)\n",
      "6. repr::mime2repr[[mime]](obj)\n",
      "7. repr_text.default(obj)\n",
      "8. paste(capture.output(print(obj)), collapse = \"\\n\")\n",
      "9. capture.output(print(obj))\n",
      "10. withVisible(...elt(i))\n",
      "11. print(obj)\n",
      "12. print.ggplot(obj)\n",
      "13. ggplot_build(x)\n",
      "14. ggplot_build.ggplot(x)\n",
      "15. by_layer(function(l, d) l$compute_statistic(d, layout))\n",
      "16. f(l = layers[[i]], d = data[[i]])\n",
      "17. l$compute_statistic(d, layout)\n",
      "18. f(..., self = self)\n",
      "19. self$stat$setup_params(data, self$stat_params)\n",
      "20. f(...)\n",
      "21. abort(glue(\"StatBin requires a continuous {x} variable: the {x} variable is discrete.\", \n",
      "  .     \"Perhaps you want stat=\\\"count\\\"?\"))\n",
      "22. signal_abort(cnd, .file)\n"
     ]
    }
   ],
   "source": [
    "all_of_fav_genre <- mxmh_survey_results %>%\n",
    "                    rename(fav_genre=\"Fav genre\", ) %>%\n",
    "                    group_by(fav_genre) %>%\n",
    "                    summarise(count = n())\n",
    "\n",
    "all_of_fav_genre\n",
    "\n",
    "fav_genre_plot <-  all_of_fav_genre %>%\n",
    "ggplot() + geom_histogram(aes(x=fav_genre), bindwith = 1)\n",
    "\n",
    "fav_genre_plot"
   ]
  },
  {
   "cell_type": "code",
   "execution_count": null,
   "id": "68ce3906-222b-4769-8011-b197292ceb05",
   "metadata": {},
   "outputs": [],
   "source": []
  }
 ],
 "metadata": {
  "kernelspec": {
   "display_name": "R",
   "language": "R",
   "name": "ir"
  },
  "language_info": {
   "codemirror_mode": "r",
   "file_extension": ".r",
   "mimetype": "text/x-r-source",
   "name": "R",
   "pygments_lexer": "r",
   "version": "4.1.3"
  }
 },
 "nbformat": 4,
 "nbformat_minor": 5
}
