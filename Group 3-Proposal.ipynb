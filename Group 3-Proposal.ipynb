{
 "cells": [
  {
   "cell_type": "markdown",
   "id": "18661df4-bbe0-4e80-8b46-23d66e895242",
   "metadata": {},
   "source": [
    "**Requirement"
   ]
  },
  {
   "cell_type": "markdown",
   "id": "0a86a5ed-dd3d-4a87-9999-5d9b05fb2fa0",
   "metadata": {},
   "source": [
    "Deliverable 2: \n",
    "Project Proposal\n",
    "Each group is expected to prepare a written proposal within **500 words (about 1 page)** that identifies the dataset they plan to work on, as well as the question they would like to answer using that dataset for their group project. The proposal should be done in a Jupyter notebook, and then submitted both as an .html file (File → Download As → HTML) and an .ipynb file that is reproducible (i.e. works and runs without any additional files).\n",
    "\n",
    "Only one member of your team needs to submit. You must submit **two files**:\n",
    "\n",
    "the source **Jupyter notebook (.ipynb file)**\n",
    "\n",
    "the rendered **final document (.html file)**\n",
    "\n",
    "Each proposal should include the following sections:\n",
    "\n",
    "**Title**\n",
    "\n",
    "\n",
    "\n",
    "\n",
    "\n",
    "\n",
    "\n",
    "\n",
    "\n",
    "**Introduction**\n",
    "\n",
    "Begin by providing some relevant background information on the topic so that someone unfamiliar with it will be prepared to understand the rest of your proposal.\n",
    "\n",
    "Clearly state the question you will try to answer with your project. Your question should involve one or more random variables of interest, spread across two or more categories that are interesting to compare. For example, you could consider the annual maxima river flow at two different locations along a river, or perhaps gender diversity at different universities. Of the response variable, **identify one location parameter (mean, median, quantile, etc.) and one scale parameter (standard deviation, inter-quartile range, etc.)** that would be useful in answering your question. Justify your choices.\n",
    "\n",
    "UPDATE (Mar 1, 2022): If it doesn’t make sense to infer a scale parameter, you can choose another parameter, or choose a second variable altogether. Ultimately, we’re looking for a **comprehensive inference analysis on one parameter spread across 2+ groups (with at least one hypothesis test)**, plus a bit more (such as an investigation on the variance, a quantile, or a different variable). In total, you should use both **bootstrapping and asymptotics** somewhere in your report **at least once each**. Also, your hypothesis test(s) need not be significant: it is perfectly fine to write a report claiming no significant findings (i.e. your p-value is large).\n",
    "\n",
    "Identify and describe the dataset that will be used to answer the question. Remember, this dataset is allowed to contain more variables than you need – feel free to drop them!\n",
    "\n",
    "Also, be sure to frame your question/objectives in terms of what is already known in the literature. Be sure to include **at least two scientific publications** that can help frame your study (you will need to include these in the **References** section). We have no specific citation style requirements, but be consistent.\n",
    "\n",
    "**Preliminary Results**\n",
    "\n",
    "In this section, you will:\n",
    "\n",
    "Demonstrate that the dataset can be read from the web into R.\n",
    "Clean and wrangle your data into a tidy format.\n",
    "Plot the relevant raw data, tailoring your plot in a way that addresses your question.\n",
    "Compute **estimates of the parameter** you identified across your groups. Present this in a table. If relevant, include these estimates in your plot.\n",
    "Be sure to not print output that takes up a lot of screen space.\n",
    "\n",
    "**Methods: Plan**\n",
    "\n",
    "The previous sections will carry over to your final report (you’ll be allowed to improve them based on feedback you get). Begin this Methods section with a brief description of “the good things” about this report – specifically, **in what ways is this report trustworthy?**\n",
    "\n",
    "Continue by explaining why the plot(s) and estimates that you produced are not enough to give to a stakeholder, and what you should provide in addition to address this gap. Make sure your plans **include at least one hypothesis test and one confidence interval. If possible, compare both the bootstrapping and asymptotics methods.**\n",
    "\n",
    "Finish this section by reflecting on how your final report might play out:\n",
    "\n",
    "**What do you expect to find?\n",
    "What impact could such findings have?\n",
    "What future questions could this lead to?**\n",
    "\n",
    "**References**\n",
    "\n",
    "**At least two citations of literature relevant to the project**. The citation format is your choice – just be consistent. Make sure to cite the source of your data as well.\n",
    "\n",
    "assigned to review a different group’s proposal. This allows your group to collectively see a larger variety of proposals.)\n",
    "\n",
    "submit that to canvas. There is no page limit. The teaching team will deliver the feedback to your reviewee.)\n",
    "\n",
    "communicated effectively. When possible, provide suggestions for improvement. If everything looks good to you, say why it looks good.) comment: <> (- What part of the proposal is the most effective, and why?) comment: <> (- What part of the proposal is the least effective, and why? Provide a suggestion for improvement.) comment: <> (- Provide feedback on English, spelling, and grammar, if applicable.)\n",
    "\n",
    "the composition of your submission, reasoning (70%) evaluates your feedback, and writing (20%) evaluates your English, spelling, and grammar.)\n",
    "\n",
    "**Jason: here is an useful website!!!**\n",
    "\n",
    "**https://www.citationmachine.net/**\n"
   ]
  },
  {
   "cell_type": "code",
   "execution_count": 1,
   "id": "104579d7-eae9-448a-ba89-fe845e36c985",
   "metadata": {},
   "outputs": [
    {
     "name": "stderr",
     "output_type": "stream",
     "text": [
      "── \u001b[1mAttaching packages\u001b[22m ─────────────────────────────────────── tidyverse 1.3.2 ──\n",
      "\u001b[32m✔\u001b[39m \u001b[34mggplot2\u001b[39m 3.3.6      \u001b[32m✔\u001b[39m \u001b[34mpurrr  \u001b[39m 0.3.4 \n",
      "\u001b[32m✔\u001b[39m \u001b[34mtibble \u001b[39m 3.1.8      \u001b[32m✔\u001b[39m \u001b[34mdplyr  \u001b[39m 1.0.10\n",
      "\u001b[32m✔\u001b[39m \u001b[34mtidyr  \u001b[39m 1.2.1      \u001b[32m✔\u001b[39m \u001b[34mstringr\u001b[39m 1.4.1 \n",
      "\u001b[32m✔\u001b[39m \u001b[34mreadr  \u001b[39m 2.1.2      \u001b[32m✔\u001b[39m \u001b[34mforcats\u001b[39m 0.5.2 \n",
      "── \u001b[1mConflicts\u001b[22m ────────────────────────────────────────── tidyverse_conflicts() ──\n",
      "\u001b[31m✖\u001b[39m \u001b[34mdplyr\u001b[39m::\u001b[32mfilter()\u001b[39m masks \u001b[34mstats\u001b[39m::filter()\n",
      "\u001b[31m✖\u001b[39m \u001b[34mdplyr\u001b[39m::\u001b[32mlag()\u001b[39m    masks \u001b[34mstats\u001b[39m::lag()\n",
      "\n",
      "Attaching package: ‘testthat’\n",
      "\n",
      "\n",
      "The following object is masked from ‘package:dplyr’:\n",
      "\n",
      "    matches\n",
      "\n",
      "\n",
      "The following object is masked from ‘package:purrr’:\n",
      "\n",
      "    is_null\n",
      "\n",
      "\n",
      "The following objects are masked from ‘package:readr’:\n",
      "\n",
      "    edition_get, local_edition\n",
      "\n",
      "\n",
      "The following object is masked from ‘package:tidyr’:\n",
      "\n",
      "    matches\n",
      "\n",
      "\n"
     ]
    }
   ],
   "source": [
    "# Run this cell before continuing.\n",
    "library(cowplot)\n",
    "library(datateachr)\n",
    "library(digest)\n",
    "library(infer)\n",
    "library(repr)\n",
    "library(taxyvr)\n",
    "library(tidyverse)\n",
    "library(broom)\n",
    "library(digest)\n",
    "library(testthat)\n"
   ]
  },
  {
   "cell_type": "code",
   "execution_count": 5,
   "id": "762cb1b9-d358-46e5-bc9a-afc5438bee7b",
   "metadata": {},
   "outputs": [
    {
     "name": "stderr",
     "output_type": "stream",
     "text": [
      "\u001b[1mRows: \u001b[22m\u001b[34m736\u001b[39m \u001b[1mColumns: \u001b[22m\u001b[34m33\u001b[39m\n",
      "\u001b[36m──\u001b[39m \u001b[1mColumn specification\u001b[22m \u001b[36m────────────────────────────────────────────────────────\u001b[39m\n",
      "\u001b[1mDelimiter:\u001b[22m \",\"\n",
      "\u001b[31mchr\u001b[39m (26): Timestamp, Primary streaming service, While working, Instrumentali...\n",
      "\u001b[32mdbl\u001b[39m  (7): Age, Hours per day, BPM, Anxiety, Depression, Insomnia, OCD\n",
      "\n",
      "\u001b[36mℹ\u001b[39m Use `spec()` to retrieve the full column specification for this data.\n",
      "\u001b[36mℹ\u001b[39m Specify the column types or set `show_col_types = FALSE` to quiet this message.\n"
     ]
    },
    {
     "data": {
      "text/html": [
       "<table class=\"dataframe\">\n",
       "<caption>A tibble: 6 × 33</caption>\n",
       "<thead>\n",
       "\t<tr><th scope=col>Timestamp</th><th scope=col>Age</th><th scope=col>Primary streaming service</th><th scope=col>Hours per day</th><th scope=col>While working</th><th scope=col>Instrumentalist</th><th scope=col>Composer</th><th scope=col>Fav genre</th><th scope=col>Exploratory</th><th scope=col>Foreign languages</th><th scope=col>⋯</th><th scope=col>Frequency [R&amp;B]</th><th scope=col>Frequency [Rap]</th><th scope=col>Frequency [Rock]</th><th scope=col>Frequency [Video game music]</th><th scope=col>Anxiety</th><th scope=col>Depression</th><th scope=col>Insomnia</th><th scope=col>OCD</th><th scope=col>Music effects</th><th scope=col>Permissions</th></tr>\n",
       "\t<tr><th scope=col>&lt;chr&gt;</th><th scope=col>&lt;dbl&gt;</th><th scope=col>&lt;chr&gt;</th><th scope=col>&lt;dbl&gt;</th><th scope=col>&lt;chr&gt;</th><th scope=col>&lt;chr&gt;</th><th scope=col>&lt;chr&gt;</th><th scope=col>&lt;chr&gt;</th><th scope=col>&lt;chr&gt;</th><th scope=col>&lt;chr&gt;</th><th scope=col>⋯</th><th scope=col>&lt;chr&gt;</th><th scope=col>&lt;chr&gt;</th><th scope=col>&lt;chr&gt;</th><th scope=col>&lt;chr&gt;</th><th scope=col>&lt;dbl&gt;</th><th scope=col>&lt;dbl&gt;</th><th scope=col>&lt;dbl&gt;</th><th scope=col>&lt;dbl&gt;</th><th scope=col>&lt;chr&gt;</th><th scope=col>&lt;chr&gt;</th></tr>\n",
       "</thead>\n",
       "<tbody>\n",
       "\t<tr><td>8/27/2022 19:29:02</td><td>18</td><td>Spotify      </td><td>3.0</td><td>Yes</td><td>Yes</td><td>Yes</td><td>Latin           </td><td>Yes</td><td>Yes</td><td>⋯</td><td>Sometimes      </td><td>Very frequently</td><td>Never          </td><td>Sometimes      </td><td>3</td><td>0</td><td> 1</td><td>0</td><td>NA       </td><td>I understand.</td></tr>\n",
       "\t<tr><td>8/27/2022 19:57:31</td><td>63</td><td>Pandora      </td><td>1.5</td><td>Yes</td><td>No </td><td>No </td><td>Rock            </td><td>Yes</td><td>No </td><td>⋯</td><td>Sometimes      </td><td>Rarely         </td><td>Very frequently</td><td>Rarely         </td><td>7</td><td>2</td><td> 2</td><td>1</td><td>NA       </td><td>I understand.</td></tr>\n",
       "\t<tr><td>8/27/2022 21:28:18</td><td>18</td><td>Spotify      </td><td>4.0</td><td>No </td><td>No </td><td>No </td><td>Video game music</td><td>No </td><td>Yes</td><td>⋯</td><td>Never          </td><td>Rarely         </td><td>Rarely         </td><td>Very frequently</td><td>7</td><td>7</td><td>10</td><td>2</td><td>No effect</td><td>I understand.</td></tr>\n",
       "\t<tr><td>8/27/2022 21:40:40</td><td>61</td><td>YouTube Music</td><td>2.5</td><td>Yes</td><td>No </td><td>Yes</td><td>Jazz            </td><td>Yes</td><td>Yes</td><td>⋯</td><td>Sometimes      </td><td>Never          </td><td>Never          </td><td>Never          </td><td>9</td><td>7</td><td> 3</td><td>3</td><td>Improve  </td><td>I understand.</td></tr>\n",
       "\t<tr><td>8/27/2022 21:54:47</td><td>18</td><td><span style=white-space:pre-wrap>Spotify      </span></td><td>4.0</td><td>Yes</td><td>No </td><td>No </td><td><span style=white-space:pre-wrap>R&amp;B             </span></td><td>Yes</td><td>No </td><td>⋯</td><td>Very frequently</td><td>Very frequently</td><td><span style=white-space:pre-wrap>Never          </span></td><td><span style=white-space:pre-wrap>Rarely         </span></td><td>7</td><td>2</td><td> 5</td><td>9</td><td><span style=white-space:pre-wrap>Improve  </span></td><td>I understand.</td></tr>\n",
       "\t<tr><td>8/27/2022 21:56:50</td><td>18</td><td>Spotify      </td><td>5.0</td><td>Yes</td><td>Yes</td><td>Yes</td><td>Jazz            </td><td>Yes</td><td>Yes</td><td>⋯</td><td>Very frequently</td><td>Very frequently</td><td>Very frequently</td><td>Never          </td><td>8</td><td>8</td><td> 7</td><td>7</td><td>Improve  </td><td>I understand.</td></tr>\n",
       "</tbody>\n",
       "</table>\n"
      ],
      "text/latex": [
       "A tibble: 6 × 33\n",
       "\\begin{tabular}{lllllllllllllllllllll}\n",
       " Timestamp & Age & Primary streaming service & Hours per day & While working & Instrumentalist & Composer & Fav genre & Exploratory & Foreign languages & ⋯ & Frequency {[}R\\&B{]} & Frequency {[}Rap{]} & Frequency {[}Rock{]} & Frequency {[}Video game music{]} & Anxiety & Depression & Insomnia & OCD & Music effects & Permissions\\\\\n",
       " <chr> & <dbl> & <chr> & <dbl> & <chr> & <chr> & <chr> & <chr> & <chr> & <chr> & ⋯ & <chr> & <chr> & <chr> & <chr> & <dbl> & <dbl> & <dbl> & <dbl> & <chr> & <chr>\\\\\n",
       "\\hline\n",
       "\t 8/27/2022 19:29:02 & 18 & Spotify       & 3.0 & Yes & Yes & Yes & Latin            & Yes & Yes & ⋯ & Sometimes       & Very frequently & Never           & Sometimes       & 3 & 0 &  1 & 0 & NA        & I understand.\\\\\n",
       "\t 8/27/2022 19:57:31 & 63 & Pandora       & 1.5 & Yes & No  & No  & Rock             & Yes & No  & ⋯ & Sometimes       & Rarely          & Very frequently & Rarely          & 7 & 2 &  2 & 1 & NA        & I understand.\\\\\n",
       "\t 8/27/2022 21:28:18 & 18 & Spotify       & 4.0 & No  & No  & No  & Video game music & No  & Yes & ⋯ & Never           & Rarely          & Rarely          & Very frequently & 7 & 7 & 10 & 2 & No effect & I understand.\\\\\n",
       "\t 8/27/2022 21:40:40 & 61 & YouTube Music & 2.5 & Yes & No  & Yes & Jazz             & Yes & Yes & ⋯ & Sometimes       & Never           & Never           & Never           & 9 & 7 &  3 & 3 & Improve   & I understand.\\\\\n",
       "\t 8/27/2022 21:54:47 & 18 & Spotify       & 4.0 & Yes & No  & No  & R\\&B              & Yes & No  & ⋯ & Very frequently & Very frequently & Never           & Rarely          & 7 & 2 &  5 & 9 & Improve   & I understand.\\\\\n",
       "\t 8/27/2022 21:56:50 & 18 & Spotify       & 5.0 & Yes & Yes & Yes & Jazz             & Yes & Yes & ⋯ & Very frequently & Very frequently & Very frequently & Never           & 8 & 8 &  7 & 7 & Improve   & I understand.\\\\\n",
       "\\end{tabular}\n"
      ],
      "text/markdown": [
       "\n",
       "A tibble: 6 × 33\n",
       "\n",
       "| Timestamp &lt;chr&gt; | Age &lt;dbl&gt; | Primary streaming service &lt;chr&gt; | Hours per day &lt;dbl&gt; | While working &lt;chr&gt; | Instrumentalist &lt;chr&gt; | Composer &lt;chr&gt; | Fav genre &lt;chr&gt; | Exploratory &lt;chr&gt; | Foreign languages &lt;chr&gt; | ⋯ ⋯ | Frequency [R&amp;B] &lt;chr&gt; | Frequency [Rap] &lt;chr&gt; | Frequency [Rock] &lt;chr&gt; | Frequency [Video game music] &lt;chr&gt; | Anxiety &lt;dbl&gt; | Depression &lt;dbl&gt; | Insomnia &lt;dbl&gt; | OCD &lt;dbl&gt; | Music effects &lt;chr&gt; | Permissions &lt;chr&gt; |\n",
       "|---|---|---|---|---|---|---|---|---|---|---|---|---|---|---|---|---|---|---|---|---|\n",
       "| 8/27/2022 19:29:02 | 18 | Spotify       | 3.0 | Yes | Yes | Yes | Latin            | Yes | Yes | ⋯ | Sometimes       | Very frequently | Never           | Sometimes       | 3 | 0 |  1 | 0 | NA        | I understand. |\n",
       "| 8/27/2022 19:57:31 | 63 | Pandora       | 1.5 | Yes | No  | No  | Rock             | Yes | No  | ⋯ | Sometimes       | Rarely          | Very frequently | Rarely          | 7 | 2 |  2 | 1 | NA        | I understand. |\n",
       "| 8/27/2022 21:28:18 | 18 | Spotify       | 4.0 | No  | No  | No  | Video game music | No  | Yes | ⋯ | Never           | Rarely          | Rarely          | Very frequently | 7 | 7 | 10 | 2 | No effect | I understand. |\n",
       "| 8/27/2022 21:40:40 | 61 | YouTube Music | 2.5 | Yes | No  | Yes | Jazz             | Yes | Yes | ⋯ | Sometimes       | Never           | Never           | Never           | 9 | 7 |  3 | 3 | Improve   | I understand. |\n",
       "| 8/27/2022 21:54:47 | 18 | Spotify       | 4.0 | Yes | No  | No  | R&amp;B              | Yes | No  | ⋯ | Very frequently | Very frequently | Never           | Rarely          | 7 | 2 |  5 | 9 | Improve   | I understand. |\n",
       "| 8/27/2022 21:56:50 | 18 | Spotify       | 5.0 | Yes | Yes | Yes | Jazz             | Yes | Yes | ⋯ | Very frequently | Very frequently | Very frequently | Never           | 8 | 8 |  7 | 7 | Improve   | I understand. |\n",
       "\n"
      ],
      "text/plain": [
       "  Timestamp          Age Primary streaming service Hours per day While working\n",
       "1 8/27/2022 19:29:02 18  Spotify                   3.0           Yes          \n",
       "2 8/27/2022 19:57:31 63  Pandora                   1.5           Yes          \n",
       "3 8/27/2022 21:28:18 18  Spotify                   4.0           No           \n",
       "4 8/27/2022 21:40:40 61  YouTube Music             2.5           Yes          \n",
       "5 8/27/2022 21:54:47 18  Spotify                   4.0           Yes          \n",
       "6 8/27/2022 21:56:50 18  Spotify                   5.0           Yes          \n",
       "  Instrumentalist Composer Fav genre        Exploratory Foreign languages ⋯\n",
       "1 Yes             Yes      Latin            Yes         Yes               ⋯\n",
       "2 No              No       Rock             Yes         No                ⋯\n",
       "3 No              No       Video game music No          Yes               ⋯\n",
       "4 No              Yes      Jazz             Yes         Yes               ⋯\n",
       "5 No              No       R&B              Yes         No                ⋯\n",
       "6 Yes             Yes      Jazz             Yes         Yes               ⋯\n",
       "  Frequency [R&B] Frequency [Rap] Frequency [Rock] Frequency [Video game music]\n",
       "1 Sometimes       Very frequently Never            Sometimes                   \n",
       "2 Sometimes       Rarely          Very frequently  Rarely                      \n",
       "3 Never           Rarely          Rarely           Very frequently             \n",
       "4 Sometimes       Never           Never            Never                       \n",
       "5 Very frequently Very frequently Never            Rarely                      \n",
       "6 Very frequently Very frequently Very frequently  Never                       \n",
       "  Anxiety Depression Insomnia OCD Music effects Permissions  \n",
       "1 3       0           1       0   NA            I understand.\n",
       "2 7       2           2       1   NA            I understand.\n",
       "3 7       7          10       2   No effect     I understand.\n",
       "4 9       7           3       3   Improve       I understand.\n",
       "5 7       2           5       9   Improve       I understand.\n",
       "6 8       8           7       7   Improve       I understand."
      ]
     },
     "metadata": {},
     "output_type": "display_data"
    }
   ],
   "source": [
    "mxmh_survey_results <- read_csv(\"mxmh_survey_results.csv\")\n",
    "head(mxmh_survey_results)"
   ]
  },
  {
   "cell_type": "code",
   "execution_count": 16,
   "id": "ed5e1754-8a60-4aed-a60f-71ab3efb5c1c",
   "metadata": {},
   "outputs": [
    {
     "ename": "ERROR",
     "evalue": "\u001b[1m\u001b[33mError\u001b[39m in \u001b[1m\u001b[1m`select()`:\u001b[22m\n\u001b[33m!\u001b[39m Can't subset columns that don't exist.\n\u001b[31m✖\u001b[39m Column `Fav_genre` doesn't exist.\n",
     "output_type": "error",
     "traceback": [
      "\u001b[1m\u001b[33mError\u001b[39m in \u001b[1m\u001b[1m`select()`:\u001b[22m\n\u001b[33m!\u001b[39m Can't subset columns that don't exist.\n\u001b[31m✖\u001b[39m Column `Fav_genre` doesn't exist.\nTraceback:\n",
      "1. mxmh_survey_results %>% select(Fav_genre)",
      "2. select(., Fav_genre)",
      "3. select.data.frame(., Fav_genre)",
      "4. tidyselect_fix_call(tidyselect::eval_select(expr(c(...)), .data), \n .     call = error_call)",
      "5. withCallingHandlers(expr, error = function(cnd) {\n .     cnd$call <- call\n .     cnd$parent <- NULL\n .     cnd_signal(cnd)\n . })",
      "6. tidyselect::eval_select(expr(c(...)), .data)",
      "7. eval_select_impl(data, names(data), as_quosure(expr, env), include = include, \n .     exclude = exclude, strict = strict, name_spec = name_spec, \n .     allow_rename = allow_rename, error_call = error_call, )",
      "8. with_subscript_errors(vars_select_eval(vars, expr, strict = strict, \n .     data = x, name_spec = name_spec, uniquely_named = uniquely_named, \n .     allow_rename = allow_rename, type = type, error_call = error_call), \n .     type = type)",
      "9. tryCatch(with_entraced_errors(expr), vctrs_error_subscript = function(cnd) {\n .     cnd$subscript_action <- subscript_action(type)\n .     cnd$subscript_elt <- \"column\"\n .     cnd_signal(cnd)\n . })",
      "10. tryCatchList(expr, classes, parentenv, handlers)",
      "11. tryCatchOne(expr, names, parentenv, handlers[[1L]])",
      "12. value[[3L]](cond)",
      "13. cnd_signal(cnd)",
      "14. signal_abort(cnd)",
      "15. signalCondition(cnd)",
      "16. (function (cnd) \n  . {\n  .     cnd$call <- call\n  .     cnd$parent <- NULL\n  .     cnd_signal(cnd)\n  . })(structure(list(message = \"\", trace = structure(list(call = list(\n  .     IRkernel::main(), kernel$run(), handle_shell(), executor$execute(msg), \n  .     tryCatch(evaluate(request$content$code, envir = .GlobalEnv, \n  .         output_handler = oh, stop_on_error = 1L), interrupt = function(cond) {\n  .         log_debug(\"Interrupt during execution\")\n  .         interrupted <<- TRUE\n  .     }, error = .self$handle_error), tryCatchList(expr, classes, \n  .         parentenv, handlers), tryCatchOne(tryCatchList(expr, \n  .         names[-nh], parentenv, handlers[-nh]), names[nh], parentenv, \n  .         handlers[[nh]]), doTryCatch(return(expr), name, parentenv, \n  .         handler), tryCatchList(expr, names[-nh], parentenv, handlers[-nh]), \n  .     tryCatchOne(expr, names, parentenv, handlers[[1L]]), doTryCatch(return(expr), \n  .         name, parentenv, handler), evaluate(request$content$code, \n  .         envir = .GlobalEnv, output_handler = oh, stop_on_error = 1L), \n  .     evaluate_call(expr, parsed$src[[i]], envir = envir, enclos = enclos, \n  .         debug = debug, last = i == length(out), use_try = stop_on_error != \n  .             2L, keep_warning = keep_warning, keep_message = keep_message, \n  .         output_handler = output_handler, include_timing = include_timing), \n  .     timing_fn(handle(ev <- withCallingHandlers(withVisible(eval_with_user_handlers(expr, \n  .         envir, enclos, user_handlers)), warning = wHandler, error = eHandler, \n  .         message = mHandler))), handle(ev <- withCallingHandlers(withVisible(eval_with_user_handlers(expr, \n  .         envir, enclos, user_handlers)), warning = wHandler, error = eHandler, \n  .         message = mHandler)), try(f, silent = TRUE), tryCatch(expr, \n  .         error = function(e) {\n  .             call <- conditionCall(e)\n  .             if (!is.null(call)) {\n  .                 if (identical(call[[1L]], quote(doTryCatch))) \n  .                   call <- sys.call(-4L)\n  .                 dcall <- deparse(call, nlines = 1L)\n  .                 prefix <- paste(\"Error in\", dcall, \": \")\n  .                 LONG <- 75L\n  .                 sm <- strsplit(conditionMessage(e), \"\\n\")[[1L]]\n  .                 w <- 14L + nchar(dcall, type = \"w\") + nchar(sm[1L], \n  .                   type = \"w\")\n  .                 if (is.na(w)) \n  .                   w <- 14L + nchar(dcall, type = \"b\") + nchar(sm[1L], \n  .                     type = \"b\")\n  .                 if (w > LONG) \n  .                   prefix <- paste0(prefix, \"\\n  \")\n  .             }\n  .             else prefix <- \"Error : \"\n  .             msg <- paste0(prefix, conditionMessage(e), \"\\n\")\n  .             .Internal(seterrmessage(msg[1L]))\n  .             if (!silent && isTRUE(getOption(\"show.error.messages\"))) {\n  .                 cat(msg, file = outFile)\n  .                 .Internal(printDeferredWarnings())\n  .             }\n  .             invisible(structure(msg, class = \"try-error\", condition = e))\n  .         }), tryCatchList(expr, classes, parentenv, handlers), \n  .     tryCatchOne(expr, names, parentenv, handlers[[1L]]), doTryCatch(return(expr), \n  .         name, parentenv, handler), withCallingHandlers(withVisible(eval_with_user_handlers(expr, \n  .         envir, enclos, user_handlers)), warning = wHandler, error = eHandler, \n  .         message = mHandler), withVisible(eval_with_user_handlers(expr, \n  .         envir, enclos, user_handlers)), eval_with_user_handlers(expr, \n  .         envir, enclos, user_handlers), eval(expr, envir, enclos), \n  .     eval(expr, envir, enclos), mxmh_survey_results %>% select(Fav_genre), \n  .     select(., Fav_genre), select.data.frame(., Fav_genre), tidyselect_fix_call(tidyselect::eval_select(expr(c(...)), \n  .         .data), call = error_call), withCallingHandlers(expr, \n  .         error = function(cnd) {\n  .             cnd$call <- call\n  .             cnd$parent <- NULL\n  .             cnd_signal(cnd)\n  .         }), tidyselect::eval_select(expr(c(...)), .data), eval_select_impl(data, \n  .         names(data), as_quosure(expr, env), include = include, \n  .         exclude = exclude, strict = strict, name_spec = name_spec, \n  .         allow_rename = allow_rename, error_call = error_call, \n  .         ), with_subscript_errors(vars_select_eval(vars, expr, \n  .         strict = strict, data = x, name_spec = name_spec, uniquely_named = uniquely_named, \n  .         allow_rename = allow_rename, type = type, error_call = error_call), \n  .         type = type), tryCatch(with_entraced_errors(expr), vctrs_error_subscript = function(cnd) {\n  .         cnd$subscript_action <- subscript_action(type)\n  .         cnd$subscript_elt <- \"column\"\n  .         cnd_signal(cnd)\n  .     }), tryCatchList(expr, classes, parentenv, handlers), tryCatchOne(expr, \n  .         names, parentenv, handlers[[1L]]), doTryCatch(return(expr), \n  .         name, parentenv, handler), with_entraced_errors(expr), \n  .     try_fetch(expr, simpleError = function(cnd) {\n  .         abort(conditionMessage(cnd), call = conditionCall(cnd))\n  .     }), withCallingHandlers(expr, simpleError = function(cnd) {\n  .         {\n  .             .__handler_frame__. <- TRUE\n  .             .__setup_frame__. <- frame\n  .         }\n  .         out <- handlers[[1L]](cnd)\n  .         if (!inherits(out, \"rlang_zap\")) \n  .             throw(out)\n  .     }), vars_select_eval(vars, expr, strict = strict, data = x, \n  .         name_spec = name_spec, uniquely_named = uniquely_named, \n  .         allow_rename = allow_rename, type = type, error_call = error_call), \n  .     walk_data_tree(expr, data_mask, context_mask, error_call), \n  .     eval_c(expr, data_mask, context_mask), reduce_sels(node, \n  .         data_mask, context_mask, init = init), walk_data_tree(new, \n  .         data_mask, context_mask), as_indices_sel_impl(out, vars = vars, \n  .         strict = strict, data = data, call = error_call), as_indices_impl(x, \n  .         vars, call = call, strict = strict), chr_as_locations(x, \n  .         vars, call = call), vctrs::vec_as_location(x, n = length(vars), \n  .         names = vars), `<fn>`(), stop_subscript_oob(i = i, subscript_type = subscript_type, \n  .         names = names, subscript_action = subscript_action, subscript_arg = subscript_arg, \n  .         call = call), stop_subscript(class = \"vctrs_error_subscript_oob\", \n  .         i = i, subscript_type = subscript_type, ..., call = call), \n  .     abort(class = c(class, \"vctrs_error_subscript\"), i = i, ..., \n  .         call = vctrs_error_call(call))), parent = c(0L, 1L, 2L, \n  . 3L, 4L, 5L, 6L, 7L, 6L, 9L, 10L, 4L, 12L, 13L, 13L, 15L, 16L, \n  . 17L, 18L, 19L, 13L, 13L, 13L, 23L, 24L, 0L, 0L, 0L, 28L, 29L, \n  . 28L, 31L, 32L, 33L, 34L, 35L, 36L, 33L, 38L, 39L, 32L, 41L, 42L, \n  . 43L, 44L, 45L, 46L, 47L, 48L, 49L, 50L, 51L, 52L), visible = c(TRUE, \n  . TRUE, TRUE, TRUE, TRUE, TRUE, TRUE, TRUE, TRUE, TRUE, TRUE, TRUE, \n  . TRUE, TRUE, TRUE, TRUE, TRUE, TRUE, TRUE, TRUE, TRUE, TRUE, TRUE, \n  . TRUE, TRUE, TRUE, TRUE, TRUE, TRUE, TRUE, TRUE, TRUE, TRUE, TRUE, \n  . TRUE, TRUE, TRUE, TRUE, TRUE, TRUE, TRUE, TRUE, TRUE, TRUE, TRUE, \n  . TRUE, TRUE, TRUE, FALSE, FALSE, FALSE, FALSE, FALSE), namespace = c(\"IRkernel\", \n  . NA, \"IRkernel\", NA, \"base\", \"base\", \"base\", \"base\", \"base\", \"base\", \n  . \"base\", \"evaluate\", \"evaluate\", \"evaluate\", \"evaluate\", \"base\", \n  . \"base\", \"base\", \"base\", \"base\", \"base\", \"base\", \"evaluate\", \"base\", \n  . \"base\", NA, \"dplyr\", \"dplyr\", \"dplyr\", \"base\", \"tidyselect\", \n  . \"tidyselect\", \"tidyselect\", \"base\", \"base\", \"base\", \"base\", \"tidyselect\", \n  . \"rlang\", \"base\", \"tidyselect\", \"tidyselect\", \"tidyselect\", \"tidyselect\", \n  . \"tidyselect\", \"tidyselect\", \"tidyselect\", \"tidyselect\", \"vctrs\", \n  . \"vctrs\", \"vctrs\", \"vctrs\", \"rlang\"), scope = c(\"::\", NA, \"local\", \n  . NA, \"::\", \"local\", \"local\", \"local\", \"local\", \"local\", \"local\", \n  . \"::\", \":::\", \"local\", \"local\", \"::\", \"::\", \"local\", \"local\", \n  . \"local\", \"::\", \"::\", \":::\", \"::\", \"::\", NA, \"::\", \":::\", \":::\", \n  . \"::\", \"::\", \":::\", \":::\", \"::\", \"local\", \"local\", \"local\", \":::\", \n  . \"::\", \"::\", \":::\", \":::\", \":::\", \":::\", \":::\", \":::\", \":::\", \n  . \":::\", \"::\", \"local\", \":::\", \":::\", \"::\"), error_frame = c(FALSE, \n  . FALSE, FALSE, FALSE, FALSE, FALSE, FALSE, FALSE, FALSE, FALSE, \n  . FALSE, FALSE, FALSE, FALSE, FALSE, FALSE, FALSE, FALSE, FALSE, \n  . FALSE, FALSE, FALSE, FALSE, FALSE, FALSE, FALSE, FALSE, FALSE, \n  . FALSE, FALSE, FALSE, FALSE, FALSE, FALSE, FALSE, FALSE, FALSE, \n  . FALSE, FALSE, FALSE, FALSE, FALSE, FALSE, FALSE, FALSE, FALSE, \n  . FALSE, TRUE, FALSE, FALSE, FALSE, FALSE, FALSE)), row.names = c(NA, \n  . -53L), version = 2L, class = c(\"rlang_trace\", \"rlib_trace\", \"tbl\", \n  . \"data.frame\")), parent = NULL, i = \"Fav_genre\", subscript_type = \"character\", \n  .     names = c(\"Timestamp\", \"Age\", \"Primary streaming service\", \n  .     \"Hours per day\", \"While working\", \"Instrumentalist\", \"Composer\", \n  .     \"Fav genre\", \"Exploratory\", \"Foreign languages\", \"BPM\", \"Frequency [Classical]\", \n  .     \"Frequency [Country]\", \"Frequency [EDM]\", \"Frequency [Folk]\", \n  .     \"Frequency [Gospel]\", \"Frequency [Hip hop]\", \"Frequency [Jazz]\", \n  .     \"Frequency [K pop]\", \"Frequency [Latin]\", \"Frequency [Lofi]\", \n  .     \"Frequency [Metal]\", \"Frequency [Pop]\", \"Frequency [R&B]\", \n  .     \"Frequency [Rap]\", \"Frequency [Rock]\", \"Frequency [Video game music]\", \n  .     \"Anxiety\", \"Depression\", \"Insomnia\", \"OCD\", \"Music effects\", \n  .     \"Permissions\"), subscript_action = \"subset\", subscript_arg = \"x\", \n  .     call = chr_as_locations(x, vars, call = call), subscript_elt = \"column\"), class = c(\"vctrs_error_subscript_oob\", \n  . \"vctrs_error_subscript\", \"rlang_error\", \"error\", \"condition\")))",
      "17. cnd_signal(cnd)",
      "18. signal_abort(cnd)"
     ]
    }
   ],
   "source": [
    "mxmh_survey_results_filtered <- mxmh_survey_results %>%\n",
    "                                select(Fav_genre)"
   ]
  },
  {
   "cell_type": "code",
   "execution_count": null,
   "id": "10d244fb-6685-4872-8072-d6c894ded7c0",
   "metadata": {},
   "outputs": [],
   "source": []
  }
 ],
 "metadata": {
  "kernelspec": {
   "display_name": "R",
   "language": "R",
   "name": "ir"
  },
  "language_info": {
   "codemirror_mode": "r",
   "file_extension": ".r",
   "mimetype": "text/x-r-source",
   "name": "R",
   "pygments_lexer": "r",
   "version": "4.1.3"
  }
 },
 "nbformat": 4,
 "nbformat_minor": 5
}
